{
 "cells": [
  {
   "cell_type": "code",
   "execution_count": 3,
   "id": "2302ba9b",
   "metadata": {},
   "outputs": [],
   "source": [
    "import pandas as pd\n",
    "import pickle\n",
    "import tensorflow as tf\n",
    "from tensorflow.keras.models import load_model\n",
    "import numpy as numpy\n",
    "\n"
   ]
  },
  {
   "cell_type": "code",
   "execution_count": 4,
   "id": "486642d9",
   "metadata": {},
   "outputs": [
    {
     "name": "stderr",
     "output_type": "stream",
     "text": [
      "WARNING:absl:Compiled the loaded model, but the compiled metrics have yet to be built. `model.compile_metrics` will be empty until you train or evaluate the model.\n"
     ]
    }
   ],
   "source": [
    "# load the model file\n",
    "\n",
    "model =load_model('model.h5')\n",
    "\n",
    "with open('label_encoder_gender.pkl','rb')as file:\n",
    "    label_encoder_gender= pickle.load(file)\n",
    "\n",
    "with open('One_hot_encoder_geo_.pkl','rb')as file:\n",
    "    One_hot_encoder_geo_ = pickle.load(file)\n",
    "\n",
    "with open('scaler.pkl','rb')as file:\n",
    "    scaler = pickle.load(file)"
   ]
  },
  {
   "cell_type": "code",
   "execution_count": 5,
   "id": "ea9498b7",
   "metadata": {},
   "outputs": [
    {
     "name": "stdout",
     "output_type": "stream",
     "text": [
      "\u001b[1m1/1\u001b[0m \u001b[32m━━━━━━━━━━━━━━━━━━━━\u001b[0m\u001b[37m\u001b[0m \u001b[1m0s\u001b[0m 180ms/step\n",
      "Prediction (probability): [[0.19783372]]\n",
      "Prediction (class): [[0]]\n"
     ]
    }
   ],
   "source": [
    "# Sample input data as a dictionary\n",
    "sample = {\n",
    "    'CreditScore': 650,\n",
    "    'Geography': 'France',\n",
    "    'Gender': 'Male',\n",
    "    'Age': 40,\n",
    "    'Tenure': 3,\n",
    "    'Balance': 60000,\n",
    "    'NumOfProducts': 2,\n",
    "    'HasCrCard': 1,\n",
    "    'IsActiveMember': 1,\n",
    "    'EstimatedSalary': 50000\n",
    "}\n",
    "\n",
    "# Convert to DataFrame\n",
    "sample_df = pd.DataFrame([sample])\n",
    "\n",
    "# Encode 'Gender'\n",
    "sample_df['Gender'] = label_encoder_gender.transform(sample_df['Gender'])\n",
    "\n",
    "# One-hot encode 'Geography'\n",
    "geo_encoded = One_hot_encoder_geo_.transform(sample_df[['Geography']]).toarray()\n",
    "geo_feature_names = One_hot_encoder_geo_.get_feature_names_out(['Geography'])\n",
    "geo_df = pd.DataFrame(geo_encoded, columns=geo_feature_names)\n",
    "\n",
    "# Drop original 'Geography' and concatenate encoded columns\n",
    "sample_df = sample_df.drop('Geography', axis=1)\n",
    "sample_df = pd.concat([sample_df, geo_df], axis=1)\n",
    "\n",
    "# Scale features\n",
    "sample_scaled = scaler.transform(sample_df)\n",
    "\n",
    "# Predict\n",
    "prediction = model.predict(sample_scaled)\n",
    "print(\"Prediction (probability):\", prediction)\n",
    "print(\"Prediction (class):\", (prediction > 0.5).astype(int))"
   ]
  },
  {
   "cell_type": "code",
   "execution_count": null,
   "id": "384f90e0",
   "metadata": {},
   "outputs": [],
   "source": []
  }
 ],
 "metadata": {
  "kernelspec": {
   "display_name": "Python 3",
   "language": "python",
   "name": "python3"
  },
  "language_info": {
   "codemirror_mode": {
    "name": "ipython",
    "version": 3
   },
   "file_extension": ".py",
   "mimetype": "text/x-python",
   "name": "python",
   "nbconvert_exporter": "python",
   "pygments_lexer": "ipython3",
   "version": "3.11.11"
  }
 },
 "nbformat": 4,
 "nbformat_minor": 5
}
